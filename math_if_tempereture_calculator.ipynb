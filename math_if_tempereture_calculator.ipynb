{
 "cells": [
  {
   "cell_type": "markdown",
   "metadata": {},
   "source": [
    "# Simple math"
   ]
  },
  {
   "cell_type": "markdown",
   "metadata": {},
   "source": [
    "priority\n",
    " 1. ()\n",
    " 2. Exsponential **\n",
    " 3. * / % //\n",
    " 4. + -"
   ]
  },
  {
   "cell_type": "code",
   "execution_count": 10,
   "metadata": {},
   "outputs": [
    {
     "name": "stdout",
     "output_type": "stream",
     "text": [
      "Add       =  7\n",
      "Substract =  3\n",
      "Multiply  =  10\n",
      "Devide    =  2.5\n",
      "Exsponen  =  25\n",
      "Modulus   =  1\n",
      "f_division=  2\n"
     ]
    }
   ],
   "source": [
    "a = 2\n",
    "b = 5\n",
    "\n",
    "print(\"Add       = \", b + a)\n",
    "print(\"Substract = \", b - a)\n",
    "print(\"Multiply  = \", b * a)\n",
    "print(\"Devide    = \", b / a)\n",
    "print(\"Exsponen  = \", b ** a)\n",
    "print(\"Modulus   = \", b % a )\n",
    "print(\"f_division= \", b // a)"
   ]
  },
  {
   "cell_type": "markdown",
   "metadata": {},
   "source": [
    "# Temperature conversion from C"
   ]
  },
  {
   "cell_type": "code",
   "execution_count": 20,
   "metadata": {
    "scrolled": false
   },
   "outputs": [
    {
     "name": "stdout",
     "output_type": "stream",
     "text": [
      "Temperature conversion\n",
      "input temperature in celcius = 46.11\n",
      "Temp =  46.11 Celcius\n",
      "Temp =  36.9  Reamur\n",
      "Temp =  114.998  Fahrenheit\n",
      "Temp =  319.11  Kelvin\n"
     ]
    }
   ],
   "source": [
    "print (\"Temperature conversion\")\n",
    "Celcius = float(input(\"input temperature in celcius = \"))\n",
    "print(\"Temp = \" , Celcius , \"Celcius\" )\n",
    "\n",
    "#into Reamur\n",
    "Reamur = (4/5) * Celcius\n",
    "print(\"Temp = \" , format(Reamur, '.1f') , \" Reamur\")\n",
    "\n",
    "#into Fahrenheit\n",
    "Fahrenheit = ((9/5) * Celcius) + 32\n",
    "print(\"Temp = \" , Fahrenheit , \" Fahrenheit\")\n",
    "\n",
    "#into Kelvin\n",
    "Kelvin = Celcius + 273\n",
    "print(\"Temp = \" , Kelvin , \" Kelvin\")"
   ]
  },
  {
   "cell_type": "markdown",
   "metadata": {},
   "source": [
    "# if... elif"
   ]
  },
  {
   "cell_type": "code",
   "execution_count": 5,
   "metadata": {
    "scrolled": false
   },
   "outputs": [
    {
     "name": "stdout",
     "output_type": "stream",
     "text": [
      "b is greater than a\n"
     ]
    }
   ],
   "source": [
    "a = 10\n",
    "b = 30\n",
    "if b > a:\n",
    "  print(\"b is greater than a\")\n",
    "elif a == b:\n",
    "  print(\"a and b are equal\")"
   ]
  },
  {
   "cell_type": "markdown",
   "metadata": {},
   "source": [
    "# if... else"
   ]
  },
  {
   "cell_type": "code",
   "execution_count": 6,
   "metadata": {},
   "outputs": [
    {
     "name": "stdout",
     "output_type": "stream",
     "text": [
      "b is greater than a\n"
     ]
    }
   ],
   "source": [
    "#if.... else\n",
    "a = 10\n",
    "b = 30\n",
    "if b > a:\n",
    "  print(\"b is greater than a\")\n",
    "else:\n",
    "  print(\"maybe equal or smaller\")"
   ]
  },
  {
   "cell_type": "markdown",
   "metadata": {},
   "source": [
    "# if....elif... else"
   ]
  },
  {
   "cell_type": "code",
   "execution_count": 7,
   "metadata": {},
   "outputs": [
    {
     "name": "stdout",
     "output_type": "stream",
     "text": [
      "a is greater than b\n"
     ]
    }
   ],
   "source": [
    "a = 20\n",
    "b = 3\n",
    "if b > a:\n",
    "  print(\"b is greater than a\")\n",
    "elif a == b:\n",
    "  print(\"a and b are equal\")\n",
    "else:\n",
    "  print(\"a is greater than b\")"
   ]
  },
  {
   "cell_type": "markdown",
   "metadata": {},
   "source": [
    "# other option"
   ]
  },
  {
   "cell_type": "code",
   "execution_count": 8,
   "metadata": {
    "scrolled": false
   },
   "outputs": [
    {
     "name": "stdout",
     "output_type": "stream",
     "text": [
      "B\n",
      "equal\n"
     ]
    }
   ],
   "source": [
    "a = 2\n",
    "b = 2\n",
    "print(\"A\") if a > b else print(\"B\")\n",
    "print(\"A\") if a > b else print(\"equal\") if a == b else print(\"B\")"
   ]
  },
  {
   "cell_type": "markdown",
   "metadata": {},
   "source": [
    "# Simpel calculator"
   ]
  },
  {
   "cell_type": "code",
   "execution_count": 22,
   "metadata": {
    "scrolled": true
   },
   "outputs": [
    {
     "name": "stdout",
     "output_type": "stream",
     "text": [
      "------------------------------------\n",
      "Simple calculator\n",
      "First Number = 12\n",
      "Second Number = 42\n",
      "press number to calculate \n",
      "1 = add            2 = substract\n",
      "3 = multiply       4 = devide\n",
      "what you want to do ?  2\n",
      "Output= 54\n",
      "Again (yes/no) = yes\n",
      "------------------------------------\n",
      "Simple calculator\n",
      "First Number = 8\n",
      "Second Number = 2\n",
      "press number to calculate \n",
      "1 = add            2 = substract\n",
      "3 = multiply       4 = devide\n",
      "what you want to do ?  3\n",
      "Output= 10\n",
      "Again (yes/no) = no\n"
     ]
    }
   ],
   "source": [
    "replay = \"yes\"\n",
    "while replay == 'yes':\n",
    "    print(\"------------------------------------\")\n",
    "    print('Simple calculator')\n",
    "    a = int(input(\"First Number = \"))\n",
    "    b = int(input(\"Second Number = \"))\n",
    "    print(\"press number to calculate \")\n",
    "    print(\"1 = add            2 = substract\")\n",
    "    print(\"3 = multiply       4 = devide\")\n",
    "    calculate = input(\"what you want to do ?  \")\n",
    "\n",
    "    if calculate == \"add\" or \"1\":\n",
    "        print(\"Output=\", a + b)\n",
    "    elif calculate == \"2\" or \"sub\":\n",
    "        print(\"Output=\", a - b)\n",
    "    elif calculate == \"3\" or \"multiply\":\n",
    "        print(\"Output=\", a * b)\n",
    "    elif calculate == \"4\" or \"devide\":\n",
    "        print(\"Output=\", a / b)\n",
    "\n",
    "    replay = input(\"Again (yes/no) = \")\n",
    "    if replay == \"no\":\n",
    "        break"
   ]
  },
  {
   "cell_type": "code",
   "execution_count": null,
   "metadata": {},
   "outputs": [],
   "source": []
  },
  {
   "cell_type": "code",
   "execution_count": null,
   "metadata": {},
   "outputs": [],
   "source": []
  }
 ],
 "metadata": {
  "kernelspec": {
   "display_name": "Python 3",
   "language": "python",
   "name": "python3"
  },
  "language_info": {
   "codemirror_mode": {
    "name": "ipython",
    "version": 3
   },
   "file_extension": ".py",
   "mimetype": "text/x-python",
   "name": "python",
   "nbconvert_exporter": "python",
   "pygments_lexer": "ipython3",
   "version": "3.8.5"
  }
 },
 "nbformat": 4,
 "nbformat_minor": 4
}
